{
 "cells": [
  {
   "cell_type": "markdown",
   "metadata": {},
   "source": [
    "## Hypothesis API\n",
    "\n",
    "<https://h.readthedocs.io/en/latest/api-reference/#tag/annotations/paths/~1search/get>"
   ]
  },
  {
   "cell_type": "code",
   "execution_count": 8,
   "metadata": {},
   "outputs": [],
   "source": [
    "import requests, json\n",
    "\n",
    "params = {\n",
    "    'uri': 'https://styleme.pixnet.net/post/223909533'\n",
    "}\n",
    "rq = requests.get('https://api.hypothes.is/api/search', params=params)\n",
    "annotations = json.loads(rq.text)"
   ]
  },
  {
   "cell_type": "code",
   "execution_count": 7,
   "metadata": {},
   "outputs": [
    {
     "data": {
      "text/plain": [
       "{'created': '2019-09-15T03:30:28.225125+00:00',\n",
       " 'document': {'title': ['【台南美食】在古早豪宅享用時尚蔬食午餐 ♫ 赤崁璽樓（蔬食餐廳、民宿、鳳梨酥）台南素食餐廳推薦']},\n",
       " 'flagged': False,\n",
       " 'group': '__world__',\n",
       " 'hidden': False,\n",
       " 'id': 'Kb-A4tdpEem4lNPjhCVg9w',\n",
       " 'links': {'html': 'https://hypothes.is/a/Kb-A4tdpEem4lNPjhCVg9w',\n",
       "  'incontext': 'https://hyp.is/Kb-A4tdpEem4lNPjhCVg9w/styleme.pixnet.net/post/223909533',\n",
       "  'json': 'https://hypothes.is/api/annotations/Kb-A4tdpEem4lNPjhCVg9w'},\n",
       " 'permissions': {'admin': ['acct:liao961120@hypothes.is'],\n",
       "  'delete': ['acct:liao961120@hypothes.is'],\n",
       "  'read': ['group:__world__'],\n",
       "  'update': ['acct:liao961120@hypothes.is']},\n",
       " 'tags': ['3-2', 'Q'],\n",
       " 'target': [{'selector': [{'endContainer': '/div[1]/div[1]/div[3]/div[2]/div[1]/div[2]/article[1]/div[1]/p[73]/span[1]',\n",
       "     'endOffset': 15,\n",
       "     'startContainer': '/div[1]/div[1]/div[3]/div[2]/div[1]/div[2]/article[1]/div[1]/p[73]/span[1]',\n",
       "     'startOffset': 9,\n",
       "     'type': 'RangeSelector'},\n",
       "    {'end': 1962, 'start': 1956, 'type': 'TextPositionSelector'},\n",
       "    {'exact': '一點都不素食',\n",
       "     'prefix': '蔔絲餅\\n蘿蔔絲為主軸，加上層層香酥的酥皮內餡\\n素食蟹殼黃蘿蔔絲餅',\n",
       "     'suffix': '\\xa0\\n\\xa0\\n\\n\\xa0\\n\\xa0\\n\\xa0墨西哥捲\\u300068元\\n\\n\\xa0\\n（圖右）我一直以為美',\n",
       "     'type': 'TextQuoteSelector'}],\n",
       "   'source': 'https://styleme.pixnet.net/post/223909533'}],\n",
       " 'text': '分類：3-2\\n1. M: no\\n2. wiki: no\\n3. special meaning from context (直覺): yes',\n",
       " 'updated': '2019-09-18T01:45:22.231310+00:00',\n",
       " 'uri': 'https://styleme.pixnet.net/post/223909533',\n",
       " 'user': 'acct:liao961120@hypothes.is',\n",
       " 'user_info': {'display_name': None}}"
      ]
     },
     "execution_count": 7,
     "metadata": {},
     "output_type": "execute_result"
    }
   ],
   "source": [
    "# The first annotation on the web page: https://styleme.pixnet.net/post/223909533\n",
    "annotations['rows'][0]"
   ]
  },
  {
   "cell_type": "code",
   "execution_count": 9,
   "metadata": {},
   "outputs": [
    {
     "data": {
      "text/plain": [
       "'分類：3-2\\n1. M: no\\n2. wiki: no\\n3. special meaning from context (直覺): yes'"
      ]
     },
     "execution_count": 9,
     "metadata": {},
     "output_type": "execute_result"
    }
   ],
   "source": [
    "# The content of the annotation\n",
    "annotations['rows'][0]['text']"
   ]
  },
  {
   "cell_type": "code",
   "execution_count": 10,
   "metadata": {},
   "outputs": [
    {
     "data": {
      "text/plain": [
       "['3-2', 'Q']"
      ]
     },
     "execution_count": 10,
     "metadata": {},
     "output_type": "execute_result"
    }
   ],
   "source": [
    "# Tags of the annotation\n",
    "annotations['rows'][0]['tags']"
   ]
  }
 ],
 "metadata": {
  "kernelspec": {
   "display_name": "Python 3",
   "language": "python",
   "name": "python3"
  },
  "language_info": {
   "codemirror_mode": {
    "name": "ipython",
    "version": 3
   },
   "file_extension": ".py",
   "mimetype": "text/x-python",
   "name": "python",
   "nbconvert_exporter": "python",
   "pygments_lexer": "ipython3",
   "version": "3.7.1"
  }
 },
 "nbformat": 4,
 "nbformat_minor": 2
}
